{
  "nbformat": 4,
  "nbformat_minor": 0,
  "metadata": {
    "colab": {
      "provenance": []
    },
    "kernelspec": {
      "name": "python3",
      "display_name": "Python 3"
    },
    "language_info": {
      "name": "python"
    }
  },
  "cells": [
    {
      "cell_type": "markdown",
      "source": [
        " Fetch and display weather details using an open weather API.\n",
        ""
      ],
      "metadata": {
        "id": "1QcQKsEMJhZO"
      }
    },
    {
      "cell_type": "code",
      "source": [
        "import requests\n",
        "\n",
        "def fetch_weather(city_name, api_key):\n",
        "    \"\"\"\n",
        "    Fetches weather details for a given city using OpenWeatherMap API.\n",
        "    \"\"\"\n",
        "    base_url = \"http://api.openweathermap.org/data/2.5/weather\"\n",
        "    params = {\n",
        "        'q': city_name,\n",
        "        'appid': api_key,\n",
        "        'units': 'metric'  # Use 'imperial' for Fahrenheit\n",
        "    }\n",
        "\n",
        "    try:\n",
        "        response = requests.get(base_url, params=params)\n",
        "        response.raise_for_status()\n",
        "        return response.json()\n",
        "    except requests.exceptions.RequestException as e:\n",
        "        return {\"error\": str(e)}\n",
        "\n",
        "def display_weather(weather_data):\n",
        "    \"\"\"\n",
        "    Displays the weather details in a user-friendly format.\n",
        "    \"\"\"\n",
        "    if 'error' in weather_data:\n",
        "        print(f\"Error: {weather_data['error']}\")\n",
        "    elif 'main' in weather_data:\n",
        "        city = weather_data.get('name', 'Unknown')\n",
        "        country = weather_data.get('sys', {}).get('country', 'Unknown')\n",
        "        temp = weather_data['main'].get('temp', 'N/A')\n",
        "        weather = weather_data['weather'][0].get('description', 'N/A').capitalize()\n",
        "        humidity = weather_data['main'].get('humidity', 'N/A')\n",
        "        wind_speed = weather_data['wind'].get('speed', 'N/A')\n",
        "\n",
        "        print(f\"Weather in {city}, {country}:\")\n",
        "        print(f\"  Temperature: {temp}°C\")\n",
        "        print(f\"  Condition: {weather}\")\n",
        "        print(f\"  Humidity: {humidity}%\")\n",
        "        print(f\"  Wind Speed: {wind_speed} m/s\")\n",
        "    else:\n",
        "        print(\"Unexpected error. Could not fetch weather details.\")\n",
        "\n",
        "if __name__ == \"__main__\":\n",
        "    # API Key\n",
        "    print(\"To use this script, you need an API key from OpenWeatherMap.\")\n",
        "    print(\"You can get a free API key by creating an account at https://openweathermap.org/api.\")\n",
        "    API_KEY = input(\"Enter your OpenWeatherMap API key: \").strip()\n",
        "\n",
        "    if not API_KEY:\n",
        "        print(\"You must provide an API key to use this script. Exiting.\")\n",
        "    else:\n",
        "        city = input(\"Enter the city name: \").strip()\n",
        "        if not city:\n",
        "            print(\"You must enter a city name to fetch weather details.\")\n",
        "        else:\n",
        "            weather_details = fetch_weather(city, API_KEY)\n",
        "            display_weather(weather_details)\n"
      ],
      "metadata": {
        "colab": {
          "base_uri": "https://localhost:8080/"
        },
        "id": "scPV8Yq6JBJc",
        "outputId": "8eece167-af88-4f8a-bc96-22d2e14c8cc0"
      },
      "execution_count": 5,
      "outputs": [
        {
          "output_type": "stream",
          "name": "stdout",
          "text": [
            "To use this script, you need an API key from OpenWeatherMap.\n",
            "You can get a free API key by creating an account at https://openweathermap.org/api.\n",
            "Enter your OpenWeatherMap API key: London\n",
            "Enter the city name: London\n",
            "Error: 401 Client Error: Unauthorized for url: http://api.openweathermap.org/data/2.5/weather?q=London&appid=London&units=metric\n"
          ]
        }
      ]
    }
  ]
}